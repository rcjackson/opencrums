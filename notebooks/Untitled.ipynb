{
 "cells": [
  {
   "cell_type": "code",
   "execution_count": 5,
   "id": "84e66df2-4de9-44bc-8f1d-faa645c5d7f1",
   "metadata": {},
   "outputs": [
    {
     "name": "stderr",
     "output_type": "stream",
     "text": [
      "2021-10-22 13:03:16.017119: I tensorflow/stream_executor/platform/default/dso_loader.cc:49] Successfully opened dynamic library libcudart.so.11.0\n"
     ]
    },
    {
     "name": "stdout",
     "output_type": "stream",
     "text": [
      "Populating the interactive namespace from numpy and matplotlib\n"
     ]
    }
   ],
   "source": [
    "import tensorflow as tf\n",
    "import cartopy.crs as ccrs\n",
    "from glob import glob\n",
    "%pylab inline"
   ]
  },
  {
   "cell_type": "code",
   "execution_count": 6,
   "id": "ee71ea83-646f-4445-aa14-5d9332889397",
   "metadata": {},
   "outputs": [],
   "source": [
    "def input_fn(is_training=True):\n",
    "    def parse_record(record):\n",
    "        variable_list = [\"BCCMASS\", \"BCFLUXU\", \"BCFLUXV\",\n",
    "            \"BCSMASS\", \"DMSCMASS\", \"DMSSMASS\", \n",
    "            \"DUCMASS\", \"DUCMASS25\", \"DUFLUXU\", \"DUFLUXV\",\n",
    "            \"DUSMASS\", \"DUSMASS25\", \"OCCMASS\", \"OCFLUXU\",\n",
    "            \"OCFLUXV\", \"OCSMASS\", \"SO2CMASS\", \"SO2SMASS\",\n",
    "            \"SO4CMASS\", \"SO4SMASS\", \"SSCMASS\", \"SSCMASS25\",\n",
    "            \"SSFLUXU\", \"SSFLUXV\", \"SSSMASS\", \"SSSMASS25\",\n",
    "            \"SUFLUXU\", \"SUFLUXV\"]\n",
    "    \n",
    "        feature = {'lon': tf.io.FixedLenFeature([], tf.string, default_value=\"\"),\n",
    "                   'lat': tf.io.FixedLenFeature([], tf.string, default_value=\"\"),  \n",
    "                   'time': tf.io.FixedLenFeature([], tf.float32, default_value=0.),\n",
    "                   'length': tf.io.FixedLenFeature([], tf.int64, default_value=0),\n",
    "                   'width': tf.io.FixedLenFeature([], tf.int64, default_value=0)}\n",
    "        for var in variable_list:\n",
    "            feature[var] = tf.io.FixedLenFeature([], tf.string, default_value=\"\")\n",
    "        \n",
    "        features = tf.io.parse_single_example(record, feature)\n",
    "        features['lat'] = tf.io.decode_raw(features['lat'], tf.float64)\n",
    "        features['lon'] = tf.io.decode_raw(features['lon'], tf.float64)\n",
    "        my_shape = (features['length'], features['width'], 1)\n",
    "        for var in variable_list:\n",
    "            features[var] = tf.io.decode_raw(features[var], tf.float32)\n",
    "            features[var] = tf.reshape(features[var], shape=list(my_shape))\n",
    "\n",
    "        return features\n",
    "    \n",
    "    file_list = sorted(glob(tfrecords_path))\n",
    "    dataset = tf.data.TFRecordDataset(file_list)\n",
    "\n",
    "    if is_training:\n",
    "        if shuffle:\n",
    "            dataset = dataset.shuffle(buffer_size=32)\n",
    "        else:\n",
    "            dataset = dataset.repeat()\n",
    "\n",
    "    dataset = dataset.map(parse_record)\n",
    "    dataset = dataset.batch(16)\n",
    "    dataset = tf.data.Dataset.zip((dataset, dataset))\n",
    "\n",
    "    return dataset"
   ]
  },
  {
   "cell_type": "code",
   "execution_count": 7,
   "id": "afcd4dd0-9eb2-485c-8089-e15c8bf93b0e",
   "metadata": {},
   "outputs": [
    {
     "name": "stderr",
     "output_type": "stream",
     "text": [
      "2021-10-22 13:03:40.533923: I tensorflow/compiler/jit/xla_cpu_device.cc:41] Not creating XLA devices, tf_xla_enable_xla_devices not set\n",
      "2021-10-22 13:03:40.535587: I tensorflow/stream_executor/platform/default/dso_loader.cc:49] Successfully opened dynamic library libcuda.so.1\n",
      "2021-10-22 13:03:40.634485: I tensorflow/core/common_runtime/gpu/gpu_device.cc:1720] Found device 0 with properties: \n",
      "pciBusID: 0000:07:00.0 name: NVIDIA A100-SXM4-40GB computeCapability: 8.0\n",
      "coreClock: 1.41GHz coreCount: 108 deviceMemorySize: 39.59GiB deviceMemoryBandwidth: 1.41TiB/s\n",
      "2021-10-22 13:03:40.634523: I tensorflow/stream_executor/platform/default/dso_loader.cc:49] Successfully opened dynamic library libcudart.so.11.0\n",
      "2021-10-22 13:03:40.960067: I tensorflow/stream_executor/platform/default/dso_loader.cc:49] Successfully opened dynamic library libcublas.so.11\n",
      "2021-10-22 13:03:40.960104: I tensorflow/stream_executor/platform/default/dso_loader.cc:49] Successfully opened dynamic library libcublasLt.so.11\n",
      "2021-10-22 13:03:41.039535: I tensorflow/stream_executor/platform/default/dso_loader.cc:49] Successfully opened dynamic library libcufft.so.10\n",
      "2021-10-22 13:03:41.116877: I tensorflow/stream_executor/platform/default/dso_loader.cc:49] Successfully opened dynamic library libcurand.so.10\n",
      "2021-10-22 13:03:41.118747: I tensorflow/stream_executor/platform/default/dso_loader.cc:49] Successfully opened dynamic library libcusolver.so.10\n",
      "2021-10-22 13:03:41.197159: I tensorflow/stream_executor/platform/default/dso_loader.cc:49] Successfully opened dynamic library libcusparse.so.11\n",
      "2021-10-22 13:03:41.206798: I tensorflow/stream_executor/platform/default/dso_loader.cc:49] Successfully opened dynamic library libcudnn.so.8\n",
      "2021-10-22 13:03:41.211229: I tensorflow/core/common_runtime/gpu/gpu_device.cc:1862] Adding visible gpu devices: 0\n",
      "2021-10-22 13:03:41.213235: I tensorflow/compiler/jit/xla_gpu_device.cc:99] Not creating XLA devices, tf_xla_enable_xla_devices not set\n",
      "2021-10-22 13:03:41.215406: I tensorflow/core/common_runtime/gpu/gpu_device.cc:1720] Found device 0 with properties: \n",
      "pciBusID: 0000:07:00.0 name: NVIDIA A100-SXM4-40GB computeCapability: 8.0\n",
      "coreClock: 1.41GHz coreCount: 108 deviceMemorySize: 39.59GiB deviceMemoryBandwidth: 1.41TiB/s\n",
      "2021-10-22 13:03:41.215422: I tensorflow/stream_executor/platform/default/dso_loader.cc:49] Successfully opened dynamic library libcudart.so.11.0\n",
      "2021-10-22 13:03:41.215437: I tensorflow/stream_executor/platform/default/dso_loader.cc:49] Successfully opened dynamic library libcublas.so.11\n",
      "2021-10-22 13:03:41.215448: I tensorflow/stream_executor/platform/default/dso_loader.cc:49] Successfully opened dynamic library libcublasLt.so.11\n",
      "2021-10-22 13:03:41.215458: I tensorflow/stream_executor/platform/default/dso_loader.cc:49] Successfully opened dynamic library libcufft.so.10\n",
      "2021-10-22 13:03:41.215467: I tensorflow/stream_executor/platform/default/dso_loader.cc:49] Successfully opened dynamic library libcurand.so.10\n",
      "2021-10-22 13:03:41.215477: I tensorflow/stream_executor/platform/default/dso_loader.cc:49] Successfully opened dynamic library libcusolver.so.10\n",
      "2021-10-22 13:03:41.215486: I tensorflow/stream_executor/platform/default/dso_loader.cc:49] Successfully opened dynamic library libcusparse.so.11\n",
      "2021-10-22 13:03:41.215496: I tensorflow/stream_executor/platform/default/dso_loader.cc:49] Successfully opened dynamic library libcudnn.so.8\n",
      "2021-10-22 13:03:41.219677: I tensorflow/core/common_runtime/gpu/gpu_device.cc:1862] Adding visible gpu devices: 0\n",
      "2021-10-22 13:03:41.219716: I tensorflow/stream_executor/platform/default/dso_loader.cc:49] Successfully opened dynamic library libcudart.so.11.0\n",
      "2021-10-22 13:03:43.395077: I tensorflow/core/common_runtime/gpu/gpu_device.cc:1261] Device interconnect StreamExecutor with strength 1 edge matrix:\n",
      "2021-10-22 13:03:43.395130: I tensorflow/core/common_runtime/gpu/gpu_device.cc:1267]      0 \n",
      "2021-10-22 13:03:43.395136: I tensorflow/core/common_runtime/gpu/gpu_device.cc:1280] 0:   N \n",
      "2021-10-22 13:03:43.402003: I tensorflow/core/common_runtime/gpu/gpu_device.cc:1406] Created TensorFlow device (/job:localhost/replica:0/task:0/device:GPU:0 with 37571 MB memory) -> physical GPU (device: 0, name: NVIDIA A100-SXM4-40GB, pci bus id: 0000:07:00.0, compute capability: 8.0)\n"
     ]
    }
   ],
   "source": [
    "tfrecords_path = '/lcrc/group/earthscience/rjackson/MERRA2/tfrecords/*.tfrecord'\n",
    "ds = input_fn()"
   ]
  },
  {
   "cell_type": "code",
   "execution_count": 42,
   "id": "2db960d9-e7ea-43f5-8ef2-260e73b71fee",
   "metadata": {},
   "outputs": [
    {
     "name": "stdout",
     "output_type": "stream",
     "text": [
      "(16, 20, 32, 1)\n",
      "(16, 20, 32, 1)\n",
      "(16, 20, 32, 1)\n"
     ]
    }
   ],
   "source": [
    "for x in ds.take(3):\n",
    "    print(x[0]['BCCMASS'].shape)"
   ]
  },
  {
   "cell_type": "code",
   "execution_count": 61,
   "id": "a7e2881d-7f36-49ab-92db-fcedef35a13d",
   "metadata": {},
   "outputs": [
    {
     "data": {
      "text/plain": [
       "<cartopy.mpl.feature_artist.FeatureArtist at 0x14c314b8fac0>"
      ]
     },
     "execution_count": 61,
     "metadata": {},
     "output_type": "execute_result"
    },
    {
     "data": {
      "image/png": "[encoded data removed]",
      "text/plain": [
       "<Figure size 432x288 with 1 Axes>"
      ]
     },
     "metadata": {
      "needs_background": "light"
     },
     "output_type": "display_data"
    }
   ],
   "source": [
    "inp_data = [x for x in ds.take(1)][0]\n",
    "x, y = np.meshgrid(inp_data[0]['lon'][0], inp_data[0]['lat'][0])\n",
    "fig = plt.figure()\n",
    "ax = plt.axes(projection=ccrs.PlateCarree())\n",
    "ax.pcolormesh(x, y, inp_data[0]['BCCMASS'][1, :, :, 0])\n",
    "ax.coastlines()"
   ]
  },
  {
   "cell_type": "code",
   "execution_count": 59,
   "id": "2795f852-a46a-49a3-82e9-abfe5d19f1c8",
   "metadata": {},
   "outputs": [
    {
     "data": {
      "text/plain": [
       "<tf.Tensor: shape=(16, 33), dtype=float64, numpy=\n",
       "array([[-105.   , -104.375, -103.75 , -103.125, -102.5  , -101.875,\n",
       "        -101.25 , -100.625, -100.   ,  -99.375,  -98.75 ,  -98.125,\n",
       "         -97.5  ,  -96.875,  -96.25 ,  -95.625,  -95.   ,  -94.375,\n",
       "         -93.75 ,  -93.125,  -92.5  ,  -91.875,  -91.25 ,  -90.625,\n",
       "         -90.   ,  -89.375,  -88.75 ,  -88.125,  -87.5  ,  -86.875,\n",
       "         -86.25 ,  -85.625,  -85.   ],\n",
       "       [-105.   , -104.375, -103.75 , -103.125, -102.5  , -101.875,\n",
       "        -101.25 , -100.625, -100.   ,  -99.375,  -98.75 ,  -98.125,\n",
       "         -97.5  ,  -96.875,  -96.25 ,  -95.625,  -95.   ,  -94.375,\n",
       "         -93.75 ,  -93.125,  -92.5  ,  -91.875,  -91.25 ,  -90.625,\n",
       "         -90.   ,  -89.375,  -88.75 ,  -88.125,  -87.5  ,  -86.875,\n",
       "         -86.25 ,  -85.625,  -85.   ],\n",
       "       [-105.   , -104.375, -103.75 , -103.125, -102.5  , -101.875,\n",
       "        -101.25 , -100.625, -100.   ,  -99.375,  -98.75 ,  -98.125,\n",
       "         -97.5  ,  -96.875,  -96.25 ,  -95.625,  -95.   ,  -94.375,\n",
       "         -93.75 ,  -93.125,  -92.5  ,  -91.875,  -91.25 ,  -90.625,\n",
       "         -90.   ,  -89.375,  -88.75 ,  -88.125,  -87.5  ,  -86.875,\n",
       "         -86.25 ,  -85.625,  -85.   ],\n",
       "       [-105.   , -104.375, -103.75 , -103.125, -102.5  , -101.875,\n",
       "        -101.25 , -100.625, -100.   ,  -99.375,  -98.75 ,  -98.125,\n",
       "         -97.5  ,  -96.875,  -96.25 ,  -95.625,  -95.   ,  -94.375,\n",
       "         -93.75 ,  -93.125,  -92.5  ,  -91.875,  -91.25 ,  -90.625,\n",
       "         -90.   ,  -89.375,  -88.75 ,  -88.125,  -87.5  ,  -86.875,\n",
       "         -86.25 ,  -85.625,  -85.   ],\n",
       "       [-105.   , -104.375, -103.75 , -103.125, -102.5  , -101.875,\n",
       "        -101.25 , -100.625, -100.   ,  -99.375,  -98.75 ,  -98.125,\n",
       "         -97.5  ,  -96.875,  -96.25 ,  -95.625,  -95.   ,  -94.375,\n",
       "         -93.75 ,  -93.125,  -92.5  ,  -91.875,  -91.25 ,  -90.625,\n",
       "         -90.   ,  -89.375,  -88.75 ,  -88.125,  -87.5  ,  -86.875,\n",
       "         -86.25 ,  -85.625,  -85.   ],\n",
       "       [-105.   , -104.375, -103.75 , -103.125, -102.5  , -101.875,\n",
       "        -101.25 , -100.625, -100.   ,  -99.375,  -98.75 ,  -98.125,\n",
       "         -97.5  ,  -96.875,  -96.25 ,  -95.625,  -95.   ,  -94.375,\n",
       "         -93.75 ,  -93.125,  -92.5  ,  -91.875,  -91.25 ,  -90.625,\n",
       "         -90.   ,  -89.375,  -88.75 ,  -88.125,  -87.5  ,  -86.875,\n",
       "         -86.25 ,  -85.625,  -85.   ],\n",
       "       [-105.   , -104.375, -103.75 , -103.125, -102.5  , -101.875,\n",
       "        -101.25 , -100.625, -100.   ,  -99.375,  -98.75 ,  -98.125,\n",
       "         -97.5  ,  -96.875,  -96.25 ,  -95.625,  -95.   ,  -94.375,\n",
       "         -93.75 ,  -93.125,  -92.5  ,  -91.875,  -91.25 ,  -90.625,\n",
       "         -90.   ,  -89.375,  -88.75 ,  -88.125,  -87.5  ,  -86.875,\n",
       "         -86.25 ,  -85.625,  -85.   ],\n",
       "       [-105.   , -104.375, -103.75 , -103.125, -102.5  , -101.875,\n",
       "        -101.25 , -100.625, -100.   ,  -99.375,  -98.75 ,  -98.125,\n",
       "         -97.5  ,  -96.875,  -96.25 ,  -95.625,  -95.   ,  -94.375,\n",
       "         -93.75 ,  -93.125,  -92.5  ,  -91.875,  -91.25 ,  -90.625,\n",
       "         -90.   ,  -89.375,  -88.75 ,  -88.125,  -87.5  ,  -86.875,\n",
       "         -86.25 ,  -85.625,  -85.   ],\n",
       "       [-105.   , -104.375, -103.75 , -103.125, -102.5  , -101.875,\n",
       "        -101.25 , -100.625, -100.   ,  -99.375,  -98.75 ,  -98.125,\n",
       "         -97.5  ,  -96.875,  -96.25 ,  -95.625,  -95.   ,  -94.375,\n",
       "         -93.75 ,  -93.125,  -92.5  ,  -91.875,  -91.25 ,  -90.625,\n",
       "         -90.   ,  -89.375,  -88.75 ,  -88.125,  -87.5  ,  -86.875,\n",
       "         -86.25 ,  -85.625,  -85.   ],\n",
       "       [-105.   , -104.375, -103.75 , -103.125, -102.5  , -101.875,\n",
       "        -101.25 , -100.625, -100.   ,  -99.375,  -98.75 ,  -98.125,\n",
       "         -97.5  ,  -96.875,  -96.25 ,  -95.625,  -95.   ,  -94.375,\n",
       "         -93.75 ,  -93.125,  -92.5  ,  -91.875,  -91.25 ,  -90.625,\n",
       "         -90.   ,  -89.375,  -88.75 ,  -88.125,  -87.5  ,  -86.875,\n",
       "         -86.25 ,  -85.625,  -85.   ],\n",
       "       [-105.   , -104.375, -103.75 , -103.125, -102.5  , -101.875,\n",
       "        -101.25 , -100.625, -100.   ,  -99.375,  -98.75 ,  -98.125,\n",
       "         -97.5  ,  -96.875,  -96.25 ,  -95.625,  -95.   ,  -94.375,\n",
       "         -93.75 ,  -93.125,  -92.5  ,  -91.875,  -91.25 ,  -90.625,\n",
       "         -90.   ,  -89.375,  -88.75 ,  -88.125,  -87.5  ,  -86.875,\n",
       "         -86.25 ,  -85.625,  -85.   ],\n",
       "       [-105.   , -104.375, -103.75 , -103.125, -102.5  , -101.875,\n",
       "        -101.25 , -100.625, -100.   ,  -99.375,  -98.75 ,  -98.125,\n",
       "         -97.5  ,  -96.875,  -96.25 ,  -95.625,  -95.   ,  -94.375,\n",
       "         -93.75 ,  -93.125,  -92.5  ,  -91.875,  -91.25 ,  -90.625,\n",
       "         -90.   ,  -89.375,  -88.75 ,  -88.125,  -87.5  ,  -86.875,\n",
       "         -86.25 ,  -85.625,  -85.   ],\n",
       "       [-105.   , -104.375, -103.75 , -103.125, -102.5  , -101.875,\n",
       "        -101.25 , -100.625, -100.   ,  -99.375,  -98.75 ,  -98.125,\n",
       "         -97.5  ,  -96.875,  -96.25 ,  -95.625,  -95.   ,  -94.375,\n",
       "         -93.75 ,  -93.125,  -92.5  ,  -91.875,  -91.25 ,  -90.625,\n",
       "         -90.   ,  -89.375,  -88.75 ,  -88.125,  -87.5  ,  -86.875,\n",
       "         -86.25 ,  -85.625,  -85.   ],\n",
       "       [-105.   , -104.375, -103.75 , -103.125, -102.5  , -101.875,\n",
       "        -101.25 , -100.625, -100.   ,  -99.375,  -98.75 ,  -98.125,\n",
       "         -97.5  ,  -96.875,  -96.25 ,  -95.625,  -95.   ,  -94.375,\n",
       "         -93.75 ,  -93.125,  -92.5  ,  -91.875,  -91.25 ,  -90.625,\n",
       "         -90.   ,  -89.375,  -88.75 ,  -88.125,  -87.5  ,  -86.875,\n",
       "         -86.25 ,  -85.625,  -85.   ],\n",
       "       [-105.   , -104.375, -103.75 , -103.125, -102.5  , -101.875,\n",
       "        -101.25 , -100.625, -100.   ,  -99.375,  -98.75 ,  -98.125,\n",
       "         -97.5  ,  -96.875,  -96.25 ,  -95.625,  -95.   ,  -94.375,\n",
       "         -93.75 ,  -93.125,  -92.5  ,  -91.875,  -91.25 ,  -90.625,\n",
       "         -90.   ,  -89.375,  -88.75 ,  -88.125,  -87.5  ,  -86.875,\n",
       "         -86.25 ,  -85.625,  -85.   ],\n",
       "       [-105.   , -104.375, -103.75 , -103.125, -102.5  , -101.875,\n",
       "        -101.25 , -100.625, -100.   ,  -99.375,  -98.75 ,  -98.125,\n",
       "         -97.5  ,  -96.875,  -96.25 ,  -95.625,  -95.   ,  -94.375,\n",
       "         -93.75 ,  -93.125,  -92.5  ,  -91.875,  -91.25 ,  -90.625,\n",
       "         -90.   ,  -89.375,  -88.75 ,  -88.125,  -87.5  ,  -86.875,\n",
       "         -86.25 ,  -85.625,  -85.   ]])>"
      ]
     },
     "execution_count": 59,
     "metadata": {},
     "output_type": "execute_result"
    }
   ],
   "source": [
    "inp_data[0]['lon']"
   ]
  },
  {
   "cell_type": "code",
   "execution_count": 11,
   "id": "af26035d-5c9e-452b-b58d-901a2a1b08a2",
   "metadata": {},
   "outputs": [
    {
     "data": {
      "text/plain": [
       "<tf.Tensor: shape=(), dtype=int64, numpy=32>"
      ]
     },
     "execution_count": 11,
     "metadata": {},
     "output_type": "execute_result"
    }
   ],
   "source": [
    "y = [x for x in ds.take(1)]\n",
    "y[0][0]['width'][0].numpy()"
   ]
  },
  {
   "cell_type": "code",
   "execution_count": null,
   "id": "b08fe6ce-c6e4-4459-b3e9-cb163769f624",
   "metadata": {},
   "outputs": [],
   "source": []
  }
 ],
 "metadata": {
  "kernelspec": {
   "display_name": "Python [conda env:tensorflow_env] *",
   "language": "python",
   "name": "conda-env-tensorflow_env-py"
  },
  "language_info": {
   "codemirror_mode": {
    "name": "ipython",
    "version": 3
   },
   "file_extension": ".py",
   "mimetype": "text/x-python",
   "name": "python",
   "nbconvert_exporter": "python",
   "pygments_lexer": "ipython3",
   "version": "3.8.12"
  }
 },
 "nbformat": 4,
 "nbformat_minor": 5
}
